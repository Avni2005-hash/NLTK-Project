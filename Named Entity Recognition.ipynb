{
  "nbformat": 4,
  "nbformat_minor": 0,
  "metadata": {
    "colab": {
      "provenance": [],
      "authorship_tag": "ABX9TyNqGDaQ8JMKG0P4rExqTvc5",
      "include_colab_link": true
    },
    "kernelspec": {
      "name": "python3",
      "display_name": "Python 3"
    },
    "language_info": {
      "name": "python"
    }
  },
  "cells": [
    {
      "cell_type": "markdown",
      "metadata": {
        "id": "view-in-github",
        "colab_type": "text"
      },
      "source": [
        "<a href=\"https://colab.research.google.com/github/Avni2005-hash/NLTK-Project/blob/main/Named%20Entity%20Recognition.ipynb\" target=\"_parent\"><img src=\"https://colab.research.google.com/assets/colab-badge.svg\" alt=\"Open In Colab\"/></a>"
      ]
    },
    {
      "cell_type": "code",
      "execution_count": 11,
      "metadata": {
        "colab": {
          "base_uri": "https://localhost:8080/"
        },
        "id": "mA5HyfSHoStL",
        "outputId": "93ae0c7b-ce41-43f2-bec3-3cb589091782"
      },
      "outputs": [
        {
          "output_type": "stream",
          "name": "stderr",
          "text": [
            "[nltk_data] Downloading package punkt to /root/nltk_data...\n",
            "[nltk_data]   Unzipping tokenizers/punkt.zip.\n",
            "[nltk_data] Downloading package averaged_perceptron_tagger to\n",
            "[nltk_data]     /root/nltk_data...\n",
            "[nltk_data]   Unzipping taggers/averaged_perceptron_tagger.zip.\n",
            "[nltk_data] Downloading package maxent_ne_chunker to\n",
            "[nltk_data]     /root/nltk_data...\n",
            "[nltk_data]   Unzipping chunkers/maxent_ne_chunker.zip.\n",
            "[nltk_data] Downloading package words to /root/nltk_data...\n",
            "[nltk_data]   Package words is already up-to-date!\n"
          ]
        },
        {
          "output_type": "stream",
          "name": "stdout",
          "text": [
            "['Sundar', 'Pichai', 'Google', 'USA']\n",
            "<FreqDist with 4 samples and 4 outcomes>\n",
            "Top 10 Named entities:\n",
            "[('Sundar', 1), ('Pichai', 1), ('Google', 1), ('USA', 1)]\n"
          ]
        }
      ],
      "source": [
        "import nltk\n",
        "nltk.download('punkt')\n",
        "nltk.download('averaged_perceptron_tagger')\n",
        "nltk.download('maxent_ne_chunker')\n",
        "nltk.download('words')\n",
        "from nltk import word_tokenize,pos_tag,ne_chunk\n",
        "from nltk.tree import Tree\n",
        "from nltk.probability import FreqDist\n",
        "\n",
        "text=\"Apple Inc. was founded by Steve Jobs in California. Microsoft Corporation is based in Redmond. Sundar Pichai leads Google in the USA\"\n",
        "sentences=nltk.sent_tokenize(text)\n",
        "def extract_named_entities(ne_tree):\n",
        "  entities=[]\n",
        "  for subtree in ne_tree:\n",
        "    if isinstance(subtree,Tree):\n",
        "      name=\" \".join([name for name,pos in subtree.leaves()])\n",
        "      type_entities=subtree.label()\n",
        "      entities.append((name,type_entities))\n",
        "  return entities\n",
        "all_en=[]\n",
        "for sent in sentences:\n",
        "  words=word_tokenize(sent)\n",
        "  pos=pos_tag(words)\n",
        "  ne_tree=ne_chunk(pos)\n",
        "all_en.extend(extract_named_entities(ne_tree))\n",
        "names=[name for name,type_en in all_en]\n",
        "print(names)\n",
        "fdist=FreqDist(names)\n",
        "print(fdist)\n",
        "print(\"Top 10 Named entities:\")\n",
        "print(fdist.most_common(10))"
      ]
    },
    {
      "cell_type": "code",
      "source": [],
      "metadata": {
        "id": "n-jDIMHIwC-Y"
      },
      "execution_count": null,
      "outputs": []
    }
  ]
}