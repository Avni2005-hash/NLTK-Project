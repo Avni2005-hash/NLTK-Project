{
  "nbformat": 4,
  "nbformat_minor": 0,
  "metadata": {
    "colab": {
      "provenance": [],
      "authorship_tag": "ABX9TyOHrfyfPc0fROhPC8fGc4Yf",
      "include_colab_link": true
    },
    "kernelspec": {
      "name": "python3",
      "display_name": "Python 3"
    },
    "language_info": {
      "name": "python"
    }
  },
  "cells": [
    {
      "cell_type": "markdown",
      "metadata": {
        "id": "view-in-github",
        "colab_type": "text"
      },
      "source": [
        "<a href=\"https://colab.research.google.com/github/Avni2005-hash/NLTK-Project/blob/main/Preprocessing.ipynb\" target=\"_parent\"><img src=\"https://colab.research.google.com/assets/colab-badge.svg\" alt=\"Open In Colab\"/></a>"
      ]
    },
    {
      "cell_type": "code",
      "execution_count": 26,
      "metadata": {
        "colab": {
          "base_uri": "https://localhost:8080/"
        },
        "id": "G7X9kGMC8lZq",
        "outputId": "5d8c365d-f124-4509-8119-61f6c3440fe9"
      },
      "outputs": [
        {
          "output_type": "stream",
          "name": "stdout",
          "text": [
            "Requirement already satisfied: nltk in /usr/local/lib/python3.12/dist-packages (3.9.1)\n",
            "Requirement already satisfied: click in /usr/local/lib/python3.12/dist-packages (from nltk) (8.2.1)\n",
            "Requirement already satisfied: joblib in /usr/local/lib/python3.12/dist-packages (from nltk) (1.5.2)\n",
            "Requirement already satisfied: regex>=2021.8.3 in /usr/local/lib/python3.12/dist-packages (from nltk) (2024.11.6)\n",
            "Requirement already satisfied: tqdm in /usr/local/lib/python3.12/dist-packages (from nltk) (4.67.1)\n"
          ]
        }
      ],
      "source": [
        "pip install nltk"
      ]
    },
    {
      "cell_type": "code",
      "source": [
        "import nltk\n",
        "nltk.download('punkt')\n",
        "nltk.download('stopwords')\n",
        "nltk.download('wordnet')\n",
        "nltk.download('averaged_perceptron_tagger')\n",
        "nltk.download('punkt_tab')"
      ],
      "metadata": {
        "colab": {
          "base_uri": "https://localhost:8080/"
        },
        "id": "Hr3xy5n88oV9",
        "outputId": "723db53e-f623-495e-fe48-c485c64a7a43"
      },
      "execution_count": 30,
      "outputs": [
        {
          "output_type": "stream",
          "name": "stderr",
          "text": [
            "[nltk_data] Downloading package punkt to /root/nltk_data...\n",
            "[nltk_data]   Package punkt is already up-to-date!\n",
            "[nltk_data] Downloading package stopwords to /root/nltk_data...\n",
            "[nltk_data]   Package stopwords is already up-to-date!\n",
            "[nltk_data] Downloading package wordnet to /root/nltk_data...\n",
            "[nltk_data]   Package wordnet is already up-to-date!\n",
            "[nltk_data] Downloading package averaged_perceptron_tagger to\n",
            "[nltk_data]     /root/nltk_data...\n",
            "[nltk_data]   Package averaged_perceptron_tagger is already up-to-\n",
            "[nltk_data]       date!\n",
            "[nltk_data] Downloading package punkt_tab to /root/nltk_data...\n",
            "[nltk_data]   Unzipping tokenizers/punkt_tab.zip.\n"
          ]
        },
        {
          "output_type": "execute_result",
          "data": {
            "text/plain": [
              "True"
            ]
          },
          "metadata": {},
          "execution_count": 30
        }
      ]
    },
    {
      "cell_type": "code",
      "source": [
        "text=\"\"\n",
        "with open(\"my_text_file.txt\",\"r\",encoding='utf-8') as f:\n",
        "    text = f.read()\n",
        "print(text[:500])"
      ],
      "metadata": {
        "colab": {
          "base_uri": "https://localhost:8080/"
        },
        "id": "X-jj1vcM_uiG",
        "outputId": "173dd56a-807a-4e2d-a37a-2027aa66106b"
      },
      "execution_count": 31,
      "outputs": [
        {
          "output_type": "stream",
          "name": "stdout",
          "text": [
            "Good Morning!!\n",
            "My name is Avni Shukla.\n",
            "I am now entering in the world of nltk and\n",
            "trying to learn some basics of it.\n",
            "\n"
          ]
        }
      ]
    },
    {
      "cell_type": "code",
      "source": [
        "from nltk.tokenize import sent_tokenize,word_tokenize\n",
        "sentences=sent_tokenize(text)\n",
        "print(\"Total sentences:\",len(sentences))\n",
        "print(\"First three sentences\",sentences[:3])"
      ],
      "metadata": {
        "colab": {
          "base_uri": "https://localhost:8080/"
        },
        "id": "CYJhMAP2Buuo",
        "outputId": "55108c7a-5df1-4dda-d26a-c33e40b7ee90"
      },
      "execution_count": 32,
      "outputs": [
        {
          "output_type": "stream",
          "name": "stdout",
          "text": [
            "Total sentences: 3\n",
            "First three sentences ['Good Morning!!', 'My name is Avni Shukla.', 'I am now entering in the world of nltk and\\ntrying to learn some basics of it.']\n"
          ]
        }
      ]
    },
    {
      "cell_type": "code",
      "source": [
        "words=word_tokenize(text)\n",
        "print(\"Total words:\",len(words))\n",
        "print(\"First 20 words\",words[:20])"
      ],
      "metadata": {
        "colab": {
          "base_uri": "https://localhost:8080/"
        },
        "id": "uuTeyKYVBzta",
        "outputId": "2daf5357-ea80-48c6-9d81-5230d19aee0d"
      },
      "execution_count": 33,
      "outputs": [
        {
          "output_type": "stream",
          "name": "stdout",
          "text": [
            "Total words: 28\n",
            "First 20 words ['Good', 'Morning', '!', '!', 'My', 'name', 'is', 'Avni', 'Shukla', '.', 'I', 'am', 'now', 'entering', 'in', 'the', 'world', 'of', 'nltk', 'and']\n"
          ]
        }
      ]
    },
    {
      "cell_type": "code",
      "source": [
        "words=[w.lower() for w in words]\n",
        "print(\"Convert to lowercase\",words[:20])"
      ],
      "metadata": {
        "colab": {
          "base_uri": "https://localhost:8080/"
        },
        "id": "Cfes1sO4CbKN",
        "outputId": "8063b83a-beaa-4ef0-ff92-11538e8ba987"
      },
      "execution_count": 35,
      "outputs": [
        {
          "output_type": "stream",
          "name": "stdout",
          "text": [
            "Convert to lowercase ['good', 'morning', '!', '!', 'my', 'name', 'is', 'avni', 'shukla', '.', 'i', 'am', 'now', 'entering', 'in', 'the', 'world', 'of', 'nltk', 'and']\n"
          ]
        }
      ]
    },
    {
      "cell_type": "code",
      "source": [
        "import string\n",
        "words=[w for w in words if w not in string.punctuation]\n",
        "print(\"Removing punctuation\",words)"
      ],
      "metadata": {
        "colab": {
          "base_uri": "https://localhost:8080/"
        },
        "id": "p1hb7XhVCrJ_",
        "outputId": "c87a98ce-c22c-405f-fb87-2f22bffb92af"
      },
      "execution_count": 36,
      "outputs": [
        {
          "output_type": "stream",
          "name": "stdout",
          "text": [
            "Removing punctuation ['good', 'morning', 'my', 'name', 'is', 'avni', 'shukla', 'i', 'am', 'now', 'entering', 'in', 'the', 'world', 'of', 'nltk', 'and', 'trying', 'to', 'learn', 'some', 'basics', 'of', 'it']\n"
          ]
        }
      ]
    },
    {
      "cell_type": "code",
      "source": [
        "from nltk.corpus import stopwords\n",
        "stop_words=set(stopwords.words('english'))\n",
        "words=[w for w in words if w not in stop_words]\n",
        "print(\"Removing stopwords\",words)"
      ],
      "metadata": {
        "colab": {
          "base_uri": "https://localhost:8080/"
        },
        "id": "6ZNGhQluDWhZ",
        "outputId": "03a007b3-5547-4585-897c-518d678091c2"
      },
      "execution_count": 39,
      "outputs": [
        {
          "output_type": "stream",
          "name": "stdout",
          "text": [
            "Removing stopwords ['good', 'morning', 'name', 'avni', 'shukla', 'entering', 'world', 'nltk', 'trying', 'learn', 'basics']\n"
          ]
        }
      ]
    },
    {
      "cell_type": "code",
      "source": [
        "from nltk.stem import WordNetLemmatizer\n",
        "lemmatizer=WordNetLemmatizer()\n",
        "words=[lemmatizer.lemmatize(w) for w in words]\n",
        "print(\"Lemmatization\",words)"
      ],
      "metadata": {
        "colab": {
          "base_uri": "https://localhost:8080/"
        },
        "id": "chUhIq8cD1kg",
        "outputId": "84c39e91-3f76-4988-f3a5-efb1f7e2d416"
      },
      "execution_count": 42,
      "outputs": [
        {
          "output_type": "stream",
          "name": "stdout",
          "text": [
            "Lemmatization ['good', 'morning', 'name', 'avni', 'shukla', 'entering', 'world', 'nltk', 'trying', 'learn', 'basic']\n"
          ]
        }
      ]
    },
    {
      "cell_type": "code",
      "source": [],
      "metadata": {
        "id": "wCGt01mTEcgZ"
      },
      "execution_count": null,
      "outputs": []
    }
  ]
}